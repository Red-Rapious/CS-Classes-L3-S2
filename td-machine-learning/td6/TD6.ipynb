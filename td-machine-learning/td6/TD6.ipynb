{
 "cells": [
  {
   "cell_type": "markdown",
   "metadata": {},
   "source": [
    "# Stochastic gradient descent"
   ]
  },
  {
   "cell_type": "code",
   "execution_count": 1,
   "metadata": {},
   "outputs": [],
   "source": [
    "import numpy as np\n",
    "import scipy.io as sio\n",
    "import pandas as pd\n",
    "import matplotlib.pyplot as plt"
   ]
  },
  {
   "cell_type": "markdown",
   "metadata": {},
   "source": [
    "The goal of this practical session is to build a linear classifier that recognizes handwritten digits. In particular, we train the classifier using gradient descent (GD) and stochastic gradient descent (SGD) to minimize the empirical risk."
   ]
  },
  {
   "cell_type": "markdown",
   "metadata": {},
   "source": [
    "#### Importation of the data"
   ]
  },
  {
   "cell_type": "code",
   "execution_count": 2,
   "metadata": {},
   "outputs": [],
   "source": [
    "data = sio.loadmat('mnist_digits.mat')"
   ]
  },
  {
   "cell_type": "code",
   "execution_count": 3,
   "metadata": {},
   "outputs": [
    {
     "name": "stdout",
     "output_type": "stream",
     "text": [
      "(66000, 784) (66000, 1)\n"
     ]
    }
   ],
   "source": [
    "data_x = data['x'] \n",
    "data_y = data['y']\n",
    "print(data_x.shape, data_y.shape)"
   ]
  },
  {
   "cell_type": "markdown",
   "metadata": {},
   "source": [
    "#### Example of a random data point"
   ]
  },
  {
   "cell_type": "code",
   "execution_count": 4,
   "metadata": {},
   "outputs": [
    {
     "data": {
      "image/png": "[encoded data removed]",
      "text/plain": [
       "<Figure size 640x480 with 1 Axes>"
      ]
     },
     "metadata": {},
     "output_type": "display_data"
    },
    {
     "name": "stdout",
     "output_type": "stream",
     "text": [
      "This digit is labeled as a 5.\n"
     ]
    }
   ],
   "source": [
    "i = np.random.randint(len(data['x']))\n",
    "plt.imshow(np.reshape(data_x[i],(28,28)), cmap='binary')\n",
    "plt.show()\n",
    "print(\"This digit is labeled as a {}.\".format(int(data_y[i,0])))"
   ]
  },
  {
   "cell_type": "code",
   "execution_count": 427,
   "metadata": {},
   "outputs": [],
   "source": [
    "data_y2 = data_y.reshape((data_y.shape[0],))"
   ]
  },
  {
   "cell_type": "markdown",
   "metadata": {},
   "source": [
    "For simplicity, we build a classifier that only distinguishes the digit $6$ from the digit $8$, so that it matches the framework of binary classification."
   ]
  },
  {
   "cell_type": "code",
   "execution_count": 428,
   "metadata": {},
   "outputs": [],
   "source": [
    "# select only the 6s and the 8s\n",
    "indices = np.argwhere((data_y2 == 8) + (data_y2 == 6))[:,0]\n",
    "x = data_x[indices]\n",
    "y = data_y2[indices]"
   ]
  },
  {
   "cell_type": "code",
   "execution_count": 429,
   "metadata": {},
   "outputs": [],
   "source": [
    "# shuffle the data\n",
    "n = y.shape[0]\n",
    "perm = np.random.permutation(n)\n",
    "x2 = x[perm]\n",
    "y2 = y[perm]\n",
    "\n",
    "# separate train and test\n",
    "alpha = 0.1\n",
    "n_train = int(n*alpha)\n",
    "n_test = n - n_train\n",
    "x_train = x2[:n_train] \n",
    "x_test = x2[n_train:]\n",
    "y_train = y2[:n_train]\n",
    "y_test = y2[n_train:]\n",
    "\n",
    "# add noise to the data\n",
    "sigma = 0.1\n",
    "x_train += sigma*np.random.randn(x_train.shape[0], x_train.shape[1])\n",
    "x_test += sigma*np.random.randn(x_test.shape[0], x_test.shape[1])"
   ]
  },
  {
   "cell_type": "code",
   "execution_count": 430,
   "metadata": {},
   "outputs": [
    {
     "data": {
      "image/png": "[encoded data removed]",
      "text/plain": [
       "<matplotlib.figure.Figure at 0x7f2a896b9898>"
      ]
     },
     "metadata": {},
     "output_type": "display_data"
    }
   ],
   "source": [
    "plt.imshow(np.reshape(x_train[0],(28,28)), cmap='binary')\n",
    "plt.show()"
   ]
  },
  {
   "cell_type": "code",
   "execution_count": 431,
   "metadata": {},
   "outputs": [
    {
     "name": "stdout",
     "output_type": "stream",
     "text": [
      "(1291, 784) (11627, 784) (1291,) (11627,)\n"
     ]
    }
   ],
   "source": [
    "print(x_train.shape, x_test.shape, y_train.shape, y_test.shape)"
   ]
  },
  {
   "cell_type": "markdown",
   "metadata": {},
   "source": [
    "In this dataset, the images are represented by vectors $x$ of length $28\\times28$ of the grayscale values of the pixels. In this practical session, we will fit classifiers that are linear functions $x \\mapsto \\theta^Tx$ of the image represented as a vector. \n",
    "\n",
    "Note that it is in general a poor choice to use linear functions to classify images. Moreover, one would in general preprocess the images (e.g. through a wavelet transform) in order to obtain a sparser representation. However, as the classification problem that we are interested in is rather simple, it will work in this situation. \n",
    "\n",
    "More explicitely, we write $\\mathcal{X} = \\mathbb{R}^{28\\times28}$ the set of images. As we want to consider linear functions, we won't seek a classifier $f:\\mathcal{X} \\to \\{6,8\\}$ but a function $f:\\mathcal{X} \\to \\mathbb{R}$; the associated classifier is $6\\mathbb{1}_{\\{f(x) \\leq 7\\}} + 8\\mathbb{1}_{\\{f(x) > 7\\}}$.\n",
    "\n",
    "Our goal is to find a linear (affine) classifier $f:\\mathcal{X}\\mapsto \\mathbb{R}$ that minimizes the 01 risk:\n",
    "\\begin{equation*}\n",
    "R_{01}(f) = \\mathbb{P}\\left((Y-7)(f(X)-7) \\leq 0\\right) \\, .\n",
    "\\end{equation*}\n",
    "In order to do so, we approximate the problem by minimizing the quadratic (convex) empirical risk on the training samples:\n",
    "\\begin{equation*}\n",
    "R_{\\rm train}(f) = \\frac{1}{2n_{\\rm train}} \\sum_{(x_i,y_i) \\text{ training samples}} (y_i - f(x_i))^2 \\, .  \n",
    "\\end{equation*}\n",
    "The performance of the resulting classifiers is estimated using the empirical risk on the test samples:\n",
    "\\begin{equation*}\n",
    "R_{\\rm test}(f) = \\frac{1}{2n_{\\rm test}} \\sum_{(x_i,y_i) \\text{ test samples}} (y_i - f(x_i))^2 \\, .  \n",
    "\\end{equation*}"
   ]
  },
  {
   "cell_type": "markdown",
   "metadata": {},
   "source": [
    "$\\textbf{(1)}$ Implement the gradient descent and the stochastic gradient descent methods with constant stepsizes in order to minimize the empirical risk. "
   ]
  },
  {
   "cell_type": "code",
   "execution_count": null,
   "metadata": {},
   "outputs": [],
   "source": []
  },
  {
   "cell_type": "markdown",
   "metadata": {},
   "source": [
    "$\\textbf{(2)}$ Compare the two optimisation procedures by plotting the evolution of the empirical risks $R_{\\rm train}$ and $R_{\\rm test}$ on the training and test samples, as a function **of the number of reads of the samples**. Thus the plot should show 4 curves. This means that one step of GD corresponds to $n_{\\rm train}$ reads of the samples, while one step of SGD corresponds to only the read of only one sample. In practice, the number of reads of the data is a good approximation of the computation time. \n",
    "\n",
    "Remark: in order to keep the computation time small, I recommend that you do not compute the train and test errors at each step of SGD but only every $T_{\\rm period}$ steps  with $T_{\\rm period} >> 1$."
   ]
  },
  {
   "cell_type": "code",
   "execution_count": null,
   "metadata": {},
   "outputs": [],
   "source": []
  },
  {
   "cell_type": "markdown",
   "metadata": {},
   "source": [
    "$\\textbf{(3)}$ Reproduce the same plot, now showing the empirical train and test 01 losses. "
   ]
  },
  {
   "cell_type": "code",
   "execution_count": null,
   "metadata": {},
   "outputs": [],
   "source": []
  }
 ],
 "metadata": {
  "kernelspec": {
   "display_name": "Python 3",
   "language": "python",
   "name": "python3"
  },
  "language_info": {
   "codemirror_mode": {
    "name": "ipython",
    "version": 3
   },
   "file_extension": ".py",
   "mimetype": "text/x-python",
   "name": "python",
   "nbconvert_exporter": "python",
   "pygments_lexer": "ipython3",
   "version": "3.10.8"
  }
 },
 "nbformat": 4,
 "nbformat_minor": 4
}
