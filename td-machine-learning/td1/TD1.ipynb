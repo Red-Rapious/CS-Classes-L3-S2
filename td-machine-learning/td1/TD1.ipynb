{
 "cells": [
  {
   "cell_type": "markdown",
   "metadata": {},
   "source": [
    "# TD1: Linear and Polynomial Regressions; Application to Classification"
   ]
  },
  {
   "cell_type": "code",
   "execution_count": 5,
   "metadata": {},
   "outputs": [],
   "source": [
    "import numpy as np\n",
    "import scipy.io as sio\n",
    "import pandas as pd\n",
    "import matplotlib.pyplot as plt"
   ]
  },
  {
   "cell_type": "markdown",
   "metadata": {},
   "source": [
    "## Linear and polynomial regression: curve fitting"
   ]
  },
  {
   "cell_type": "markdown",
   "metadata": {},
   "source": [
    "Let $(X,Y)$ be a pair of real random variable such that $X$ is uniform on $[0,1]$ and $Y = f_*(X)+\\sigma \\varepsilon$, where $f_*(x) = \\sin(6x)$, $\\sigma = 0.5$, and $\\varepsilon$ is some is a standard Gaussian random variable, independent from $X$. \n",
    "\n",
    "(1) Generate $n = 40$ realizations $(x_i, y_i), i = 1, \\dots n$ of $(X,Y)$."
   ]
  },
  {
   "cell_type": "code",
   "execution_count": null,
   "metadata": {},
   "outputs": [],
   "source": []
  },
  {
   "cell_type": "markdown",
   "metadata": {},
   "source": [
    "(2) Plot the realizations of $(X,Y)$, along with the curve $y = f_*(x)$."
   ]
  },
  {
   "cell_type": "code",
   "execution_count": null,
   "metadata": {},
   "outputs": [],
   "source": []
  },
  {
   "cell_type": "markdown",
   "metadata": {},
   "source": [
    "In this section, we try to learn the function $f_*$ from the $n$ samples. We start with empirical risk minimization over the set of linear functions. "
   ]
  },
  {
   "cell_type": "markdown",
   "metadata": {},
   "source": [
    "(3) What are here the input space $\\mathcal{X}$ of the linear regression? What is the output space $\\mathcal{Y}$? What is the risk $R(f)$ of a classifier $f:\\mathcal{X} \\to \\mathcal{Y}$ in terms of $\\sigma$? What is the optimal classifier among all $L^2$ functions $f:\\mathcal{X} \\to \\mathcal{Y}$? (Here optimal means that it minimizes the risk $R(f)$.) What is the risk of the optimal classifier?"
   ]
  },
  {
   "cell_type": "code",
   "execution_count": null,
   "metadata": {},
   "outputs": [],
   "source": []
  },
  {
   "cell_type": "markdown",
   "metadata": {},
   "source": [
    "The empirical risk minimization over the set of linear function means that we estimate\n",
    "$$ \\hat{f} = {\\rm argmin}_{f \\in F} \\hat{R}_n(f) $$ \n",
    "where \n",
    "$$ F = \\{f(x) = \\theta_1 x + \\theta_0 | \\theta_0, \\theta_1 \\in \\mathbb{R}\\} \\, , $$\n",
    "$$ \\hat{R}_n(f) = \\frac{1}{n} \\sum_{i=1}^{n} (y_i - f(x_i))^2 \\, .$$\n",
    "\n",
    "(4) Writing $\\hat{f}(x) = \\theta_1 x + \\theta_0$, find a closed-from formula for $\\theta_0$, $\\theta_1$ in terms of the observations $(x_i,y_i)$."
   ]
  },
  {
   "cell_type": "code",
   "execution_count": null,
   "metadata": {},
   "outputs": [],
   "source": []
  },
  {
   "cell_type": "markdown",
   "metadata": {},
   "source": [
    "(5) Using this formula, complete the previous plot with this estimator."
   ]
  },
  {
   "cell_type": "code",
   "execution_count": null,
   "metadata": {},
   "outputs": [],
   "source": []
  },
  {
   "cell_type": "markdown",
   "metadata": {},
   "source": [
    "(6) Repeat the computation of the coefficients, using now the function `numpy.linalg.lstsq` . Check on the plot that the results are the same."
   ]
  },
  {
   "cell_type": "code",
   "execution_count": null,
   "metadata": {},
   "outputs": [],
   "source": []
  },
  {
   "cell_type": "markdown",
   "metadata": {},
   "source": [
    "(7) Minimize the empirical risk over the set of polynomials of order 2. Plot the optimal polynomial."
   ]
  },
  {
   "cell_type": "code",
   "execution_count": null,
   "metadata": {},
   "outputs": [],
   "source": []
  },
  {
   "cell_type": "markdown",
   "metadata": {},
   "source": [
    "(8) Generalize your code in order to compute the optimal polynomial of order $k$. Vary $k$ and the number of samples $n$, and plot the results. Comment."
   ]
  },
  {
   "cell_type": "code",
   "execution_count": null,
   "metadata": {},
   "outputs": [],
   "source": []
  },
  {
   "cell_type": "markdown",
   "metadata": {},
   "source": [
    "(9) Let us denote $\\hat{f}_k$ the minimizer of the empirical risk over the polynomials of order $k$. Plot the risk $R(\\hat{f}_k)$ and the empirical risk $\\hat{R}_n(\\hat{f}_k)$ as a function of $k$, for $n=40$ and $n=400$. Comment."
   ]
  },
  {
   "cell_type": "code",
   "execution_count": null,
   "metadata": {},
   "outputs": [],
   "source": []
  },
  {
   "cell_type": "markdown",
   "metadata": {},
   "source": [
    "(10) Repeat question (8) and (9) with $f_*(x) = 1.2x + 4x^2 + 4.4x^3 - 3.8x^4 + 3.6 x^5$ and $n=20$."
   ]
  },
  {
   "cell_type": "code",
   "execution_count": null,
   "metadata": {},
   "outputs": [],
   "source": []
  },
  {
   "cell_type": "markdown",
   "metadata": {},
   "source": [
    "## Linear and polynomial classifiers"
   ]
  },
  {
   "cell_type": "code",
   "execution_count": 6,
   "metadata": {},
   "outputs": [
    {
     "data": {
      "text/html": [
       "<div>\n",
       "<style scoped>\n",
       "    .dataframe tbody tr th:only-of-type {\n",
       "        vertical-align: middle;\n",
       "    }\n",
       "\n",
       "    .dataframe tbody tr th {\n",
       "        vertical-align: top;\n",
       "    }\n",
       "\n",
       "    .dataframe thead th {\n",
       "        text-align: right;\n",
       "    }\n",
       "</style>\n",
       "<table border=\"1\" class=\"dataframe\">\n",
       "  <thead>\n",
       "    <tr style=\"text-align: right;\">\n",
       "      <th></th>\n",
       "      <th>x</th>\n",
       "      <th>y</th>\n",
       "      <th>class</th>\n",
       "    </tr>\n",
       "  </thead>\n",
       "  <tbody>\n",
       "    <tr>\n",
       "      <th>0</th>\n",
       "      <td>-3.603405</td>\n",
       "      <td>1.3266</td>\n",
       "      <td>1.0</td>\n",
       "    </tr>\n",
       "    <tr>\n",
       "      <th>1</th>\n",
       "      <td>-4.219011</td>\n",
       "      <td>2.0150</td>\n",
       "      <td>1.0</td>\n",
       "    </tr>\n",
       "    <tr>\n",
       "      <th>2</th>\n",
       "      <td>-1.515658</td>\n",
       "      <td>0.5059</td>\n",
       "      <td>1.0</td>\n",
       "    </tr>\n",
       "    <tr>\n",
       "      <th>3</th>\n",
       "      <td>-1.169757</td>\n",
       "      <td>0.3815</td>\n",
       "      <td>1.0</td>\n",
       "    </tr>\n",
       "    <tr>\n",
       "      <th>4</th>\n",
       "      <td>0.522741</td>\n",
       "      <td>-0.6572</td>\n",
       "      <td>1.0</td>\n",
       "    </tr>\n",
       "  </tbody>\n",
       "</table>\n",
       "</div>"
      ],
      "text/plain": [
       "          x       y  class\n",
       "0 -3.603405  1.3266    1.0\n",
       "1 -4.219011  2.0150    1.0\n",
       "2 -1.515658  0.5059    1.0\n",
       "3 -1.169757  0.3815    1.0\n",
       "4  0.522741 -0.6572    1.0"
      ]
     },
     "execution_count": 6,
     "metadata": {},
     "output_type": "execute_result"
    }
   ],
   "source": [
    "data_train = pd.read_csv('./classification_data/classificationA_train', header=None, sep='\\t')\n",
    "data_train = data_train.rename(columns = {0:'x', 1:'y', 2:'class'})\n",
    "data_test = pd.read_csv('./classification_data/classificationA_test', header=None, sep='\\t')\n",
    "data_test = data_test.rename(columns = {0:'x', 1:'y', 2:'class'})\n",
    "data_train.head()"
   ]
  },
  {
   "cell_type": "code",
   "execution_count": 7,
   "metadata": {},
   "outputs": [],
   "source": [
    "data0_train = data_train.loc[data_train['class'] == 0]\n",
    "x0_train = np.array(data0_train['x'])\n",
    "y0_train = np.array(data0_train['y'])\n",
    "data1_train = data_train.loc[data_train['class'] == 1]\n",
    "x1_train = np.array(data1_train['x'])\n",
    "y1_train = np.array(data1_train['y'])"
   ]
  },
  {
   "cell_type": "code",
   "execution_count": 8,
   "metadata": {},
   "outputs": [
    {
     "data": {
      "image/png": "[encoded data removed]",
      "text/plain": [
       "<matplotlib.figure.Figure at 0x7f0084a9b898>"
      ]
     },
     "metadata": {},
     "output_type": "display_data"
    }
   ],
   "source": [
    "plt.plot(x0_train,y0_train,'.')\n",
    "plt.plot(x1_train,y1_train,'.')\n",
    "plt.show()"
   ]
  },
  {
   "cell_type": "code",
   "execution_count": 9,
   "metadata": {},
   "outputs": [],
   "source": [
    "data0_test = data_test.loc[data_test['class'] == 0]\n",
    "x0_test = np.array(data0_test['x'])\n",
    "y0_test = np.array(data0_test['y'])\n",
    "data1_test = data_test.loc[data_test['class'] == 1]\n",
    "x1_test = np.array(data1_test['x'])\n",
    "y1_test = np.array(data1_test['y'])"
   ]
  },
  {
   "cell_type": "code",
   "execution_count": 10,
   "metadata": {},
   "outputs": [
    {
     "data": {
      "image/png": "[encoded data removed]",
      "text/plain": [
       "<matplotlib.figure.Figure at 0x7f007c51e748>"
      ]
     },
     "metadata": {},
     "output_type": "display_data"
    }
   ],
   "source": [
    "plt.plot(x0_test,y0_test,'.')\n",
    "plt.plot(x1_test,y1_test,'.')\n",
    "plt.show()"
   ]
  },
  {
   "cell_type": "markdown",
   "metadata": {},
   "source": [
    "We want to build a classifier using that train dataset `classificationA_train` and that will perform well on the test dataset `classificationA_test`. To this end, we map the classification problem into a regression problem: we seek a function $f$ that maps $(x,y)$ onto its class $c \\in \\{0,1\\}$. In practice, we will allow $f$ to take real values and will predict class $1$ iif $f(x,y) \\geq 1/2$. \n",
    "\n",
    "To build the function $f$, we seek to minimize the empirical risk \n",
    "$$ \\hat{R}_n(f) = \\frac{1}{n}\\sum_{i=1}^{n}(f(x_i,y_i)-c_i)^2 $$\n",
    "over the set of linear classifier $f$. \n",
    "\n",
    "(11) Compute the estimator \n",
    "$$ \\hat{f} = {\\rm argmin}_{f{\\rm \\, linear}} \\hat{R}_n(f) \\, .$$\n",
    "Plot the resulting frontier $f(x,y) = 1/2$ over the train dataset."
   ]
  },
  {
   "cell_type": "code",
   "execution_count": null,
   "metadata": {},
   "outputs": [],
   "source": []
  },
  {
   "cell_type": "markdown",
   "metadata": {},
   "source": [
    "(12) Produce the same plot for the test dataset. Compute the error of the linear classifier over the test dataset. Do you think there exists a better classifier?"
   ]
  },
  {
   "cell_type": "code",
   "execution_count": null,
   "metadata": {},
   "outputs": [],
   "source": []
  },
  {
   "cell_type": "markdown",
   "metadata": {},
   "source": [
    "(13) Repeat the experiments with the datasets `classificationB` and `classificationC`. What is the situation now?"
   ]
  },
  {
   "cell_type": "code",
   "execution_count": null,
   "metadata": {},
   "outputs": [],
   "source": []
  },
  {
   "cell_type": "markdown",
   "metadata": {},
   "source": [
    "(14) Add quadratic features to allow for a larger type of classification rules. What is the mathematical set of possible frontiers? How does the performance evolve?"
   ]
  },
  {
   "cell_type": "code",
   "execution_count": null,
   "metadata": {},
   "outputs": [],
   "source": []
  },
  {
   "cell_type": "markdown",
   "metadata": {},
   "source": [
    "We assume that the data $(X,Y)$ has been generated according to the following process:\n",
    "- $Y$ is a Bernoulli random variable with parameter $p$,\n",
    "- conditionally on $Y = 1$, $X$ is a random variable in $\\mathbb{R}^2$ with density $p_1(x)$ (with respect to the Lesbegue measure), and conditionally on $Y = 0$, $X$ is a random variable with density $p_0(x)$.\n",
    "\n",
    "(15) What is the predictor $f_*:\\mathbb{R}^2 \\to \\{0,1\\}$ minimizing the error $\\mathcal{E}(f) = \\mathbb{P}\\left(f(X) \\neq Y\\right)$? (in terms of $p$, $p_0$ and $p_1$)"
   ]
  },
  {
   "cell_type": "code",
   "execution_count": null,
   "metadata": {},
   "outputs": [],
   "source": []
  },
  {
   "cell_type": "markdown",
   "metadata": {},
   "source": [
    "(16) Assume that the laws of $X$ conditionally on $Y$ are Gaussian with the same covariance, namely\n",
    "\\begin{align*}\n",
    "&X \\, | \\, Y = 0 \\sim \\mathcal{N}(\\mu_0,\\Sigma) \\, ,\n",
    "&&X \\, | \\, Y = 1 \\sim \\mathcal{N}(\\mu_1,\\Sigma) \\, .\n",
    "\\end{align*}\n",
    "What is the frontier built by the optimal predictor?"
   ]
  },
  {
   "cell_type": "code",
   "execution_count": null,
   "metadata": {},
   "outputs": [],
   "source": []
  },
  {
   "cell_type": "markdown",
   "metadata": {},
   "source": [
    "(17) Assume that the laws of $X$ conditionally on $Y$ are Gaussian with the same covariance, namely\n",
    "\\begin{align*}\n",
    "&X \\, | \\, Y = 0 \\sim \\mathcal{N}(\\mu_0,\\Sigma_0) \\, ,\n",
    "&&X \\, | \\, Y = 1 \\sim \\mathcal{N}(\\mu_1,\\Sigma_1) \\, .\n",
    "\\end{align*}\n",
    "What is the frontier built by the optimal predictor?"
   ]
  },
  {
   "cell_type": "code",
   "execution_count": null,
   "metadata": {},
   "outputs": [],
   "source": []
  },
  {
   "cell_type": "markdown",
   "metadata": {},
   "source": [
    "## Linear and polynomial classification on the MNIST dataset"
   ]
  },
  {
   "cell_type": "code",
   "execution_count": 11,
   "metadata": {},
   "outputs": [],
   "source": [
    "data = sio.loadmat('mnist_digits.mat')"
   ]
  },
  {
   "cell_type": "code",
   "execution_count": 12,
   "metadata": {},
   "outputs": [
    {
     "name": "stdout",
     "output_type": "stream",
     "text": [
      "(66000, 784)\n"
     ]
    }
   ],
   "source": [
    "data_x = data['x']\n",
    "data_y = data['y']\n",
    "print(data_x.shape)"
   ]
  },
  {
   "cell_type": "code",
   "execution_count": 13,
   "metadata": {},
   "outputs": [
    {
     "data": {
      "image/png": "[encoded data removed]",
      "text/plain": [
       "<matplotlib.figure.Figure at 0x7f007c4ca518>"
      ]
     },
     "metadata": {},
     "output_type": "display_data"
    }
   ],
   "source": [
    "i = np.random.randint(len(data['x']))\n",
    "plt.imshow(np.reshape(data_x[i],(28,28)), cmap='binary')\n",
    "plt.show()"
   ]
  },
  {
   "cell_type": "code",
   "execution_count": 14,
   "metadata": {},
   "outputs": [
    {
     "data": {
      "text/plain": [
       "array([0.], dtype=float32)"
      ]
     },
     "execution_count": 14,
     "metadata": {},
     "output_type": "execute_result"
    }
   ],
   "source": [
    "data_y[i]"
   ]
  },
  {
   "cell_type": "markdown",
   "metadata": {},
   "source": [
    "(18) Open question: choose two digits and train a classifier that distinguishes the two digits using the methods seen in this TD. \n",
    "\n",
    "Make sure that you divide the dataset into training and test sets to be able to evaluate the performance of your algorithms. \n",
    "\n",
    "Add noise to the images and repeat the experiments."
   ]
  },
  {
   "cell_type": "code",
   "execution_count": null,
   "metadata": {},
   "outputs": [],
   "source": []
  }
 ],
 "metadata": {
  "kernelspec": {
   "display_name": "Python 3",
   "language": "python",
   "name": "python3"
  },
  "language_info": {
   "codemirror_mode": {
    "name": "ipython",
    "version": 3
   },
   "file_extension": ".py",
   "mimetype": "text/x-python",
   "name": "python",
   "nbconvert_exporter": "python",
   "pygments_lexer": "ipython3",
   "version": "3.6.4"
  }
 },
 "nbformat": 4,
 "nbformat_minor": 2
}
